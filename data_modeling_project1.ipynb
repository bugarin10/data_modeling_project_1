{
 "cells": [
  {
   "cell_type": "markdown",
   "metadata": {},
   "source": [
    "#Proposal for Data Modeling\n",
    "\n",
    "### Team Members:\n",
    "\n",
    "1. Jiwon Shin\n",
    "2. Hoachong (Harry) Xia\n",
    "3. Xueqing (Annie) Wu\n",
    "4. Rafael Dávila Bugarín\n",
    "\n",
    "### Data Set\n",
    "\n",
    "The Data Source comes from Los Angeles Police Department (LAPD) and it is available in the following [link](https://data.lacity.org/A-Safe-City/Crime-Data-from-2010-to-Present/y8tr-7khq). In addition, migration data will be merged to answer one of the research questions, the data of migration comes from this [link](https://www.census.gov/data/tables/2020/demo/geographic-mobility/county-to-county-migration-2016-2020.html) and contains County-to-County migration flows from 2016 to 2020.\n",
    "\n",
    "#### Data Set Description\n",
    "\n",
    "<div style=\"text-align: justify\">This dataset represents recorded crime incidents in the City of Los Angeles dating from 2020. The source of this data is transcriptions from original crime reports, which are originally documented on paper. Therefore, it is important to acknowledge that there may exist some inaccuracies or errors within the dataset. In certain cases, location information is missing and indicated as (0°, 0°). To safeguard individual privacy, address details are truncated to the closest hundred block. The accuracy of this data is contingent on the accuracy of the information stored in the database. Please feel free to raise any questions or concerns in the comments section.</div>\n",
    "\n",
    "#### Research questions\n",
    "\n",
    "1. Does time frames really affect the crime rate in LA in 2022? (e.g. day, night, morning, afternoon, evening)\n",
    "2. Does the crime rate in LA in 2021 affect the migration rate in 2022?\n",
    "\n",
    "### Glimse of the data\n",
    "\n",
    "\n",
    "\n",
    "\n",
    "\n",
    "\n"
   ]
  },
  {
   "cell_type": "code",
   "execution_count": 14,
   "metadata": {
    "vscode": {
     "languageId": "r"
    }
   },
   "outputs": [],
   "source": [
    "library(jsonlite)\n",
    "library(tibble)\n",
    "library(tidyverse)\n",
    "library(dplyr)\n",
    "\n",
    "# Read the JSON data from a URL\n",
    "json_data <- fromJSON(\"https://data.lacity.org/resource/2nrs-mtv8.json\")\n",
    "\n",
    "# Convert the JSON data to a tibble\n",
    "data <- as_tibble(json_data)"
   ]
  },
  {
   "cell_type": "code",
   "execution_count": 21,
   "metadata": {
    "vscode": {
     "languageId": "r"
    }
   },
   "outputs": [],
   "source": [
    "library(xtable)\n",
    "library(tibble)\n",
    "\n",
    "# Convert the output of glimpse() to a LaTeX table\n",
    "tabla_1=xtable(data[1:10,1:10], caption = \"Glimpse of crime data\")"
   ]
  },
  {
   "cell_type": "code",
   "execution_count": 22,
   "metadata": {
    "vscode": {
     "languageId": "r"
    }
   },
   "outputs": [
    {
     "data": {
      "text/html": [
       "<table class=\"dataframe\">\n",
       "<caption>A xtable: 10 x 10</caption>\n",
       "<thead>\n",
       "\t<tr><th scope=col>dr_no</th><th scope=col>date_rptd</th><th scope=col>date_occ</th><th scope=col>time_occ</th><th scope=col>area</th><th scope=col>area_name</th><th scope=col>rpt_dist_no</th><th scope=col>part_1_2</th><th scope=col>crm_cd</th><th scope=col>crm_cd_desc</th></tr>\n",
       "\t<tr><th scope=col>&lt;chr&gt;</th><th scope=col>&lt;chr&gt;</th><th scope=col>&lt;chr&gt;</th><th scope=col>&lt;chr&gt;</th><th scope=col>&lt;chr&gt;</th><th scope=col>&lt;chr&gt;</th><th scope=col>&lt;chr&gt;</th><th scope=col>&lt;chr&gt;</th><th scope=col>&lt;chr&gt;</th><th scope=col>&lt;chr&gt;</th></tr>\n",
       "</thead>\n",
       "<tbody>\n",
       "\t<tr><td>010304468</td><td>2020-01-08T00:00:00.000</td><td>2020-01-08T00:00:00.000</td><td>2230</td><td>03</td><td>Southwest  </td><td>0377</td><td>2</td><td>624</td><td>BATTERY - SIMPLE ASSAULT                                </td></tr>\n",
       "\t<tr><td>190101086</td><td>2020-01-02T00:00:00.000</td><td>2020-01-01T00:00:00.000</td><td>0330</td><td>01</td><td>Central    </td><td>0163</td><td>2</td><td>624</td><td>BATTERY - SIMPLE ASSAULT                                </td></tr>\n",
       "\t<tr><td>200110444</td><td>2020-04-14T00:00:00.000</td><td>2020-02-13T00:00:00.000</td><td>1200</td><td>01</td><td>Central    </td><td>0155</td><td>2</td><td>845</td><td>SEX OFFENDER REGISTRANT OUT OF COMPLIANCE               </td></tr>\n",
       "\t<tr><td>191501505</td><td>2020-01-01T00:00:00.000</td><td>2020-01-01T00:00:00.000</td><td>1730</td><td>15</td><td>N Hollywood</td><td>1543</td><td>2</td><td>745</td><td>VANDALISM - MISDEAMEANOR ($399 OR UNDER)                </td></tr>\n",
       "\t<tr><td>191921269</td><td>2020-01-01T00:00:00.000</td><td>2020-01-01T00:00:00.000</td><td>0415</td><td>19</td><td><span style=white-space:pre-wrap>Mission    </span></td><td>1998</td><td>2</td><td>740</td><td>VANDALISM - FELONY ($400 &amp; OVER, ALL CHURCH VANDALISMS) </td></tr>\n",
       "\t<tr><td>200100501</td><td>2020-01-02T00:00:00.000</td><td>2020-01-01T00:00:00.000</td><td>0030</td><td>01</td><td>Central    </td><td>0163</td><td>1</td><td>121</td><td>RAPE, FORCIBLE                                          </td></tr>\n",
       "\t<tr><td>200100502</td><td>2020-01-02T00:00:00.000</td><td>2020-01-02T00:00:00.000</td><td>1315</td><td>01</td><td><span style=white-space:pre-wrap>Central    </span></td><td>0161</td><td>1</td><td>442</td><td><span style=white-space:pre-wrap>SHOPLIFTING - PETTY THEFT ($950 &amp; UNDER)                </span></td></tr>\n",
       "\t<tr><td>200100504</td><td>2020-01-04T00:00:00.000</td><td>2020-01-04T00:00:00.000</td><td>0040</td><td>01</td><td>Central    </td><td>0155</td><td>2</td><td>946</td><td>OTHER MISCELLANEOUS CRIME                               </td></tr>\n",
       "\t<tr><td>200100507</td><td>2020-01-04T00:00:00.000</td><td>2020-01-04T00:00:00.000</td><td>0200</td><td>01</td><td><span style=white-space:pre-wrap>Central    </span></td><td>0101</td><td>1</td><td>341</td><td>THEFT-GRAND ($950.01 &amp; OVER)EXCPT,GUNS,FOWL,LIVESTK,PROD</td></tr>\n",
       "\t<tr><td>201710201</td><td>2020-06-19T00:00:00.000</td><td>2020-05-26T00:00:00.000</td><td>1925</td><td>17</td><td>Devonshire </td><td>1708</td><td>1</td><td>341</td><td>THEFT-GRAND ($950.01 &amp; OVER)EXCPT,GUNS,FOWL,LIVESTK,PROD</td></tr>\n",
       "</tbody>\n",
       "</table>\n"
      ],
      "text/latex": [
       "A xtable: 10 x 10\n",
       "\\begin{tabular}{llllllllll}\n",
       " dr\\_no & date\\_rptd & date\\_occ & time\\_occ & area & area\\_name & rpt\\_dist\\_no & part\\_1\\_2 & crm\\_cd & crm\\_cd\\_desc\\\\\n",
       " <chr> & <chr> & <chr> & <chr> & <chr> & <chr> & <chr> & <chr> & <chr> & <chr>\\\\\n",
       "\\hline\n",
       "\t 010304468 & 2020-01-08T00:00:00.000 & 2020-01-08T00:00:00.000 & 2230 & 03 & Southwest   & 0377 & 2 & 624 & BATTERY - SIMPLE ASSAULT                                \\\\\n",
       "\t 190101086 & 2020-01-02T00:00:00.000 & 2020-01-01T00:00:00.000 & 0330 & 01 & Central     & 0163 & 2 & 624 & BATTERY - SIMPLE ASSAULT                                \\\\\n",
       "\t 200110444 & 2020-04-14T00:00:00.000 & 2020-02-13T00:00:00.000 & 1200 & 01 & Central     & 0155 & 2 & 845 & SEX OFFENDER REGISTRANT OUT OF COMPLIANCE               \\\\\n",
       "\t 191501505 & 2020-01-01T00:00:00.000 & 2020-01-01T00:00:00.000 & 1730 & 15 & N Hollywood & 1543 & 2 & 745 & VANDALISM - MISDEAMEANOR (\\$399 OR UNDER)                \\\\\n",
       "\t 191921269 & 2020-01-01T00:00:00.000 & 2020-01-01T00:00:00.000 & 0415 & 19 & Mission     & 1998 & 2 & 740 & VANDALISM - FELONY (\\$400 \\& OVER, ALL CHURCH VANDALISMS) \\\\\n",
       "\t 200100501 & 2020-01-02T00:00:00.000 & 2020-01-01T00:00:00.000 & 0030 & 01 & Central     & 0163 & 1 & 121 & RAPE, FORCIBLE                                          \\\\\n",
       "\t 200100502 & 2020-01-02T00:00:00.000 & 2020-01-02T00:00:00.000 & 1315 & 01 & Central     & 0161 & 1 & 442 & SHOPLIFTING - PETTY THEFT (\\$950 \\& UNDER)                \\\\\n",
       "\t 200100504 & 2020-01-04T00:00:00.000 & 2020-01-04T00:00:00.000 & 0040 & 01 & Central     & 0155 & 2 & 946 & OTHER MISCELLANEOUS CRIME                               \\\\\n",
       "\t 200100507 & 2020-01-04T00:00:00.000 & 2020-01-04T00:00:00.000 & 0200 & 01 & Central     & 0101 & 1 & 341 & THEFT-GRAND (\\$950.01 \\& OVER)EXCPT,GUNS,FOWL,LIVESTK,PROD\\\\\n",
       "\t 201710201 & 2020-06-19T00:00:00.000 & 2020-05-26T00:00:00.000 & 1925 & 17 & Devonshire  & 1708 & 1 & 341 & THEFT-GRAND (\\$950.01 \\& OVER)EXCPT,GUNS,FOWL,LIVESTK,PROD\\\\\n",
       "\\end{tabular}\n"
      ],
      "text/markdown": [
       "\n",
       "A xtable: 10 x 10\n",
       "\n",
       "| dr_no &lt;chr&gt; | date_rptd &lt;chr&gt; | date_occ &lt;chr&gt; | time_occ &lt;chr&gt; | area &lt;chr&gt; | area_name &lt;chr&gt; | rpt_dist_no &lt;chr&gt; | part_1_2 &lt;chr&gt; | crm_cd &lt;chr&gt; | crm_cd_desc &lt;chr&gt; |\n",
       "|---|---|---|---|---|---|---|---|---|---|\n",
       "| 010304468 | 2020-01-08T00:00:00.000 | 2020-01-08T00:00:00.000 | 2230 | 03 | Southwest   | 0377 | 2 | 624 | BATTERY - SIMPLE ASSAULT                                 |\n",
       "| 190101086 | 2020-01-02T00:00:00.000 | 2020-01-01T00:00:00.000 | 0330 | 01 | Central     | 0163 | 2 | 624 | BATTERY - SIMPLE ASSAULT                                 |\n",
       "| 200110444 | 2020-04-14T00:00:00.000 | 2020-02-13T00:00:00.000 | 1200 | 01 | Central     | 0155 | 2 | 845 | SEX OFFENDER REGISTRANT OUT OF COMPLIANCE                |\n",
       "| 191501505 | 2020-01-01T00:00:00.000 | 2020-01-01T00:00:00.000 | 1730 | 15 | N Hollywood | 1543 | 2 | 745 | VANDALISM - MISDEAMEANOR ($399 OR UNDER)                 |\n",
       "| 191921269 | 2020-01-01T00:00:00.000 | 2020-01-01T00:00:00.000 | 0415 | 19 | Mission     | 1998 | 2 | 740 | VANDALISM - FELONY ($400 &amp; OVER, ALL CHURCH VANDALISMS)  |\n",
       "| 200100501 | 2020-01-02T00:00:00.000 | 2020-01-01T00:00:00.000 | 0030 | 01 | Central     | 0163 | 1 | 121 | RAPE, FORCIBLE                                           |\n",
       "| 200100502 | 2020-01-02T00:00:00.000 | 2020-01-02T00:00:00.000 | 1315 | 01 | Central     | 0161 | 1 | 442 | SHOPLIFTING - PETTY THEFT ($950 &amp; UNDER)                 |\n",
       "| 200100504 | 2020-01-04T00:00:00.000 | 2020-01-04T00:00:00.000 | 0040 | 01 | Central     | 0155 | 2 | 946 | OTHER MISCELLANEOUS CRIME                                |\n",
       "| 200100507 | 2020-01-04T00:00:00.000 | 2020-01-04T00:00:00.000 | 0200 | 01 | Central     | 0101 | 1 | 341 | THEFT-GRAND ($950.01 &amp; OVER)EXCPT,GUNS,FOWL,LIVESTK,PROD |\n",
       "| 201710201 | 2020-06-19T00:00:00.000 | 2020-05-26T00:00:00.000 | 1925 | 17 | Devonshire  | 1708 | 1 | 341 | THEFT-GRAND ($950.01 &amp; OVER)EXCPT,GUNS,FOWL,LIVESTK,PROD |\n",
       "\n"
      ],
      "text/plain": [
       "   dr_no     date_rptd               date_occ                time_occ area\n",
       "1  010304468 2020-01-08T00:00:00.000 2020-01-08T00:00:00.000 2230     03  \n",
       "2  190101086 2020-01-02T00:00:00.000 2020-01-01T00:00:00.000 0330     01  \n",
       "3  200110444 2020-04-14T00:00:00.000 2020-02-13T00:00:00.000 1200     01  \n",
       "4  191501505 2020-01-01T00:00:00.000 2020-01-01T00:00:00.000 1730     15  \n",
       "5  191921269 2020-01-01T00:00:00.000 2020-01-01T00:00:00.000 0415     19  \n",
       "6  200100501 2020-01-02T00:00:00.000 2020-01-01T00:00:00.000 0030     01  \n",
       "7  200100502 2020-01-02T00:00:00.000 2020-01-02T00:00:00.000 1315     01  \n",
       "8  200100504 2020-01-04T00:00:00.000 2020-01-04T00:00:00.000 0040     01  \n",
       "9  200100507 2020-01-04T00:00:00.000 2020-01-04T00:00:00.000 0200     01  \n",
       "10 201710201 2020-06-19T00:00:00.000 2020-05-26T00:00:00.000 1925     17  \n",
       "   area_name   rpt_dist_no part_1_2 crm_cd\n",
       "1  Southwest   0377        2        624   \n",
       "2  Central     0163        2        624   \n",
       "3  Central     0155        2        845   \n",
       "4  N Hollywood 1543        2        745   \n",
       "5  Mission     1998        2        740   \n",
       "6  Central     0163        1        121   \n",
       "7  Central     0161        1        442   \n",
       "8  Central     0155        2        946   \n",
       "9  Central     0101        1        341   \n",
       "10 Devonshire  1708        1        341   \n",
       "   crm_cd_desc                                             \n",
       "1  BATTERY - SIMPLE ASSAULT                                \n",
       "2  BATTERY - SIMPLE ASSAULT                                \n",
       "3  SEX OFFENDER REGISTRANT OUT OF COMPLIANCE               \n",
       "4  VANDALISM - MISDEAMEANOR ($399 OR UNDER)                \n",
       "5  VANDALISM - FELONY ($400 & OVER, ALL CHURCH VANDALISMS) \n",
       "6  RAPE, FORCIBLE                                          \n",
       "7  SHOPLIFTING - PETTY THEFT ($950 & UNDER)                \n",
       "8  OTHER MISCELLANEOUS CRIME                               \n",
       "9  THEFT-GRAND ($950.01 & OVER)EXCPT,GUNS,FOWL,LIVESTK,PROD\n",
       "10 THEFT-GRAND ($950.01 & OVER)EXCPT,GUNS,FOWL,LIVESTK,PROD"
      ]
     },
     "metadata": {},
     "output_type": "display_data"
    }
   ],
   "source": [
    "tabla_1"
   ]
  },
  {
   "cell_type": "code",
   "execution_count": null,
   "metadata": {
    "vscode": {
     "languageId": "r"
    }
   },
   "outputs": [],
   "source": []
  }
 ],
 "metadata": {
  "kernelspec": {
   "display_name": "R",
   "language": "R",
   "name": "ir"
  },
  "language_info": {
   "codemirror_mode": "r",
   "file_extension": ".r",
   "mimetype": "text/x-r-source",
   "name": "R",
   "pygments_lexer": "r",
   "version": "4.2.1"
  },
  "orig_nbformat": 4
 },
 "nbformat": 4,
 "nbformat_minor": 2
}
